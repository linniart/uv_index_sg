{
 "cells": [
  {
   "cell_type": "markdown",
   "metadata": {},
   "source": [
    "*[This contains information from 'uv_index' API from https://developers.data.gov.sg/environment/uv-index which is made available under the terms of the Singapore Open Data Licence version 1.0 https://data.gov.sg/open-data-licence]*"
   ]
  },
  {
   "cell_type": "markdown",
   "metadata": {},
   "source": [
    "The UV Index is recorded for every hour from 7am to 7pm (SG Time). "
   ]
  },
  {
   "cell_type": "code",
   "execution_count": 19,
   "metadata": {},
   "outputs": [
    {
     "name": "stdout",
     "output_type": "stream",
     "text": [
      "                   timestamp  value        date      time   category\n",
      "0  2018-02-24 07:00:00+08:00      0  2018-02-24  07:00:00        low\n",
      "1  2018-02-24 08:00:00+08:00      0  2018-02-24  08:00:00        low\n",
      "2  2018-02-24 09:00:00+08:00      0  2018-02-24  09:00:00        low\n",
      "3  2018-02-24 10:00:00+08:00      0  2018-02-24  10:00:00        low\n",
      "4  2018-02-24 11:00:00+08:00      3  2018-02-24  11:00:00   moderate\n",
      "5  2018-02-24 12:00:00+08:00      8  2018-02-24  12:00:00  very high\n",
      "6  2018-02-24 13:00:00+08:00     13  2018-02-24  13:00:00    extreme\n",
      "7  2018-02-24 14:00:00+08:00     14  2018-02-24  14:00:00    extreme\n",
      "8  2018-02-24 15:00:00+08:00      8  2018-02-24  15:00:00  very high\n",
      "9  2018-02-24 16:00:00+08:00      3  2018-02-24  16:00:00   moderate\n",
      "10 2018-02-24 17:00:00+08:00      1  2018-02-24  17:00:00        low\n",
      "11 2018-02-24 18:00:00+08:00      0  2018-02-24  18:00:00        low\n",
      "12 2018-02-24 19:00:00+08:00      0  2018-02-24  19:00:00        low\n"
     ]
    }
   ],
   "source": [
    "import urllib\n",
    "import requests\n",
    "import json\n",
    "import ssl\n",
    "import pprint\n",
    "import pytz\n",
    "import datetime\n",
    "import pandas as pd\n",
    "import numpy as np\n",
    "\n",
    "today = datetime.date.today()\n",
    "yesterday = today - datetime.timedelta(1)\n",
    "#when the data are pulled before 7am, it will show yesterday's data instead\n",
    "if datetime.datetime.time(now)<datetime.time(7,0,0):\n",
    "    url = 'https://api.data.gov.sg/v1/environment/uv-index?date=%s'%yesterday\n",
    "else:\n",
    "    url = 'https://api.data.gov.sg/v1/environment/uv-index?date=%s'%today\n",
    "\n",
    "#importing API\n",
    "with urllib.request.urlopen(url) as url:\n",
    "    data = json.loads(url.read().decode())\n",
    "    #pprint.pprint(data) #print into more readable json format\n",
    "\n",
    "#choose the latest dataset\n",
    "index_dict = data['items'][-1]['index']\n",
    "index_df = pd.DataFrame(index_dict)\n",
    "index_df = index_df.sort_values('timestamp',ascending=True).reset_index(drop=True)\n",
    "\n",
    "tz = pytz.timezone('Singapore')\n",
    "timestamp = pd.to_datetime(index_df['timestamp']).apply(lambda x: x.tz_localize('UTC').tz_convert(tz))\n",
    "index_df['timestamp'] = timestamp\n",
    "\n",
    "#add new separate columns for date and time\n",
    "index_df['date'] = index_df['timestamp'].dt.date\n",
    "index_df['time'] = index_df['timestamp'].dt.time\n",
    "\n",
    "#creating new column for uv index category\n",
    "category = []\n",
    "for item in index_df['value']:\n",
    "    if item >= 11:\n",
    "        category.append('extreme')\n",
    "    elif np.logical_and(item>=8,item<=10):\n",
    "        category.append('very high')\n",
    "    elif np.logical_and(item>=6,item<=7):\n",
    "        category.append('high')\n",
    "    elif np.logical_and(item>=3, item<=5):\n",
    "        category.append('moderate')\n",
    "    else: \n",
    "        category.append('low')\n",
    "index_df['category'] = category\n",
    "\n",
    "print(index_df)"
   ]
  },
  {
   "cell_type": "markdown",
   "metadata": {},
   "source": [
    "Bar Plot Using matplotlib.pyplot"
   ]
  },
  {
   "cell_type": "code",
   "execution_count": 20,
   "metadata": {},
   "outputs": [
    {
     "data": {
      "image/png": "[encoded data removed]",
      "text/plain": [
       "<matplotlib.figure.Figure at 0x113f004a8>"
      ]
     },
     "metadata": {},
     "output_type": "display_data"
    }
   ],
   "source": [
    "import matplotlib.pyplot as plt\n",
    "\n",
    "#color codes based on the index level\n",
    "colors =[]\n",
    "for item in index_df['value']:\n",
    "    if item >= 11:\n",
    "        colors.append('purple')\n",
    "    elif np.logical_and(item>=8,item<=10):\n",
    "        colors.append('red')\n",
    "    elif np.logical_and(item>=6,item<=7):\n",
    "        colors.append('orange')\n",
    "    elif np.logical_and(item>=3, item<=5):\n",
    "        colors.append('yellow')\n",
    "    else: \n",
    "        colors.append('green')\n",
    "        \n",
    "last_update = index_df['timestamp'].max()\n",
    "\n",
    "ax=index_df['value'].plot.bar(color=colors)\n",
    "ax.set_xticklabels(index_df['time'], rotation=90)\n",
    "ax.set_title('Singapore UV Index for the Past 12 Hours\\nLast Update:%s'%(last_update))\n",
    "plt.show()"
   ]
  },
  {
   "cell_type": "markdown",
   "metadata": {},
   "source": [
    "Bar Plot Using Plotly"
   ]
  },
  {
   "cell_type": "code",
   "execution_count": 16,
   "metadata": {},
   "outputs": [
    {
     "data": {
      "text/html": [
       "<script>requirejs.config({paths: { 'plotly': ['https://cdn.plot.ly/plotly-latest.min']},});if(!window.Plotly) {{require(['plotly'],function(plotly) {window.Plotly=plotly;});}}</script>"
      ],
      "text/vnd.plotly.v1+html": [
       "<script>requirejs.config({paths: { 'plotly': ['https://cdn.plot.ly/plotly-latest.min']},});if(!window.Plotly) {{require(['plotly'],function(plotly) {window.Plotly=plotly;});}}</script>"
      ]
     },
     "metadata": {},
     "output_type": "display_data"
    },
    {
     "data": {
      "application/vnd.plotly.v1+json": {
       "data": [
        {
         "marker": {
          "color": [
           "green",
           "green",
           "green",
           "green",
           "yellow",
           "red",
           "purple",
           "purple",
           "red",
           "yellow",
           "green",
           "green",
           "green"
          ]
         },
         "text": [
          "low",
          "low",
          "low",
          "low",
          "moderate",
          "very high",
          "extreme",
          "extreme",
          "very high",
          "moderate",
          "low",
          "low",
          "low"
         ],
         "type": "bar",
         "x": [
          "07:00:00",
          "08:00:00",
          "09:00:00",
          "10:00:00",
          "11:00:00",
          "12:00:00",
          "13:00:00",
          "14:00:00",
          "15:00:00",
          "16:00:00",
          "17:00:00",
          "18:00:00",
          "19:00:00"
         ],
         "y": [
          0,
          0,
          0,
          0,
          3,
          8,
          13,
          14,
          8,
          3,
          1,
          0,
          0
         ]
        }
       ],
       "layout": {
        "title": "Singapore UV Index for the Past 12 Hours (Last Update:2018-02-24 19:00:00+08:00)",
        "xaxis": {
         "tickangle": -90
        }
       }
      },
      "text/html": [
       "<div id=\"4e267ecc-30ad-4e15-a6e1-5916671c86fd\" style=\"height: 525px; width: 100%;\" class=\"plotly-graph-div\"></div><script type=\"text/javascript\">require([\"plotly\"], function(Plotly) { window.PLOTLYENV=window.PLOTLYENV || {};window.PLOTLYENV.BASE_URL=\"https://plot.ly\";Plotly.newPlot(\"4e267ecc-30ad-4e15-a6e1-5916671c86fd\", [{\"type\": \"bar\", \"x\": [\"07:00:00\", \"08:00:00\", \"09:00:00\", \"10:00:00\", \"11:00:00\", \"12:00:00\", \"13:00:00\", \"14:00:00\", \"15:00:00\", \"16:00:00\", \"17:00:00\", \"18:00:00\", \"19:00:00\"], \"y\": [0, 0, 0, 0, 3, 8, 13, 14, 8, 3, 1, 0, 0], \"marker\": {\"color\": [\"green\", \"green\", \"green\", \"green\", \"yellow\", \"red\", \"purple\", \"purple\", \"red\", \"yellow\", \"green\", \"green\", \"green\"]}, \"text\": [\"low\", \"low\", \"low\", \"low\", \"moderate\", \"very high\", \"extreme\", \"extreme\", \"very high\", \"moderate\", \"low\", \"low\", \"low\"]}], {\"title\": \"Singapore UV Index for the Past 12 Hours (Last Update:2018-02-24 19:00:00+08:00)\", \"xaxis\": {\"tickangle\": -90}}, {\"showLink\": true, \"linkText\": \"Export to plot.ly\"})});</script>"
      ],
      "text/vnd.plotly.v1+html": [
       "<div id=\"4e267ecc-30ad-4e15-a6e1-5916671c86fd\" style=\"height: 525px; width: 100%;\" class=\"plotly-graph-div\"></div><script type=\"text/javascript\">require([\"plotly\"], function(Plotly) { window.PLOTLYENV=window.PLOTLYENV || {};window.PLOTLYENV.BASE_URL=\"https://plot.ly\";Plotly.newPlot(\"4e267ecc-30ad-4e15-a6e1-5916671c86fd\", [{\"type\": \"bar\", \"x\": [\"07:00:00\", \"08:00:00\", \"09:00:00\", \"10:00:00\", \"11:00:00\", \"12:00:00\", \"13:00:00\", \"14:00:00\", \"15:00:00\", \"16:00:00\", \"17:00:00\", \"18:00:00\", \"19:00:00\"], \"y\": [0, 0, 0, 0, 3, 8, 13, 14, 8, 3, 1, 0, 0], \"marker\": {\"color\": [\"green\", \"green\", \"green\", \"green\", \"yellow\", \"red\", \"purple\", \"purple\", \"red\", \"yellow\", \"green\", \"green\", \"green\"]}, \"text\": [\"low\", \"low\", \"low\", \"low\", \"moderate\", \"very high\", \"extreme\", \"extreme\", \"very high\", \"moderate\", \"low\", \"low\", \"low\"]}], {\"title\": \"Singapore UV Index for the Past 12 Hours (Last Update:2018-02-24 19:00:00+08:00)\", \"xaxis\": {\"tickangle\": -90}}, {\"showLink\": true, \"linkText\": \"Export to plot.ly\"})});</script>"
      ]
     },
     "metadata": {},
     "output_type": "display_data"
    }
   ],
   "source": [
    "import plotly.plotly as py\n",
    "from plotly.offline import download_plotlyjs, init_notebook_mode, plot, iplot\n",
    "import plotly.graph_objs as go\n",
    "\n",
    "colors =[]\n",
    "for item in index_df['value']:\n",
    "    if item >= 11:\n",
    "        colors.append('purple')\n",
    "    elif np.logical_and(item>=8,item<=10):\n",
    "        colors.append('red')\n",
    "    elif np.logical_and(item>=6,item<=7):\n",
    "        colors.append('orange')\n",
    "    elif np.logical_and(item>=3, item<=5):\n",
    "        colors.append('yellow')\n",
    "    else: \n",
    "        colors.append('green')\n",
    "\n",
    "last_update = index_df['timestamp'].max()\n",
    "\n",
    "#initialize plot offline in Jupyter Notebook\n",
    "init_notebook_mode(connected=True)\n",
    "\n",
    "data = [go.Bar(x=index_df.time, \n",
    "            y=index_df.value,\n",
    "            marker=dict(\n",
    "                color=colors,\n",
    "            ),\n",
    "            text = index_df['category']\n",
    "          )]\n",
    "\n",
    "last_update = index_df['timestamp'].max()\n",
    "layout = go.Layout(\n",
    "    title='Singapore UV Index for the Past 12 Hours (Last Update:%s)'%(last_update),\n",
    "    xaxis=dict(\n",
    "        tickangle=-90,)\n",
    ")\n",
    "fig = go.Figure(data=data, layout=layout)    \n",
    "iplot(fig, filename = 'jupyter/uv_index_bar')"
   ]
  }
 ],
 "metadata": {
  "kernelspec": {
   "display_name": "Python 3",
   "language": "python",
   "name": "python3"
  },
  "language_info": {
   "codemirror_mode": {
    "name": "ipython",
    "version": 3
   },
   "file_extension": ".py",
   "mimetype": "text/x-python",
   "name": "python",
   "nbconvert_exporter": "python",
   "pygments_lexer": "ipython3",
   "version": "3.6.4"
  }
 },
 "nbformat": 4,
 "nbformat_minor": 2
}
