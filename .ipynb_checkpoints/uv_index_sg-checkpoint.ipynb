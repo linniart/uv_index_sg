{
 "cells": [
  {
   "cell_type": "markdown",
   "metadata": {},
   "source": [
    "*[This contains information from 'uv_index' API from https://developers.data.gov.sg/environment/uv-index which is made available under the terms of the Singapore Open Data Licence version 1.0 https://data.gov.sg/open-data-licence]*"
   ]
  },
  {
   "cell_type": "markdown",
   "metadata": {},
   "source": [
    "Data Cleansing"
   ]
  },
  {
   "cell_type": "code",
   "execution_count": 7,
   "metadata": {},
   "outputs": [
    {
     "name": "stdout",
     "output_type": "stream",
     "text": [
      "                  timestamp  value        date      time\n",
      "0 2018-02-24 07:00:00+08:00      0  2018-02-24  07:00:00\n",
      "1 2018-02-24 08:00:00+08:00      0  2018-02-24  08:00:00\n",
      "2 2018-02-24 09:00:00+08:00      0  2018-02-24  09:00:00\n",
      "3 2018-02-24 10:00:00+08:00      0  2018-02-24  10:00:00\n",
      "4 2018-02-24 11:00:00+08:00      3  2018-02-24  11:00:00\n",
      "5 2018-02-24 12:00:00+08:00      8  2018-02-24  12:00:00\n"
     ]
    }
   ],
   "source": [
    "import urllib\n",
    "import requests\n",
    "import json\n",
    "import ssl\n",
    "import pprint\n",
    "import pytz\n",
    "import datetime\n",
    "import pandas as pd\n",
    "import numpy as np\n",
    "\n",
    "now = datetime.datetime.now()\n",
    "#url = 'https://api.data.gov.sg/v1/environment/uv-index?date=2018-02-23'\n",
    "url = 'https://api.data.gov.sg/v1/environment/uv-index?date=%s'%now.strftime(\"%Y-%m-%d\")\n",
    "with urllib.request.urlopen(url) as url:\n",
    "    data = json.loads(url.read().decode())\n",
    "    #pprint.pprint(data)\n",
    "index_dict = data['items'][-1]['index']\n",
    "index_df = pd.DataFrame(index_dict)\n",
    "index_df = index_df.sort_values('timestamp',ascending=True).reset_index(drop=True)\n",
    "\n",
    "tz = pytz.timezone('Singapore')\n",
    "timestamp = pd.to_datetime(index_df['timestamp']).apply(lambda x: x.tz_localize('UTC').tz_convert(tz))\n",
    "index_df['timestamp'] = timestamp\n",
    "\n",
    "index_df['date'] = index_df['timestamp'].dt.date\n",
    "index_df['time'] = index_df['timestamp'].dt.time\n",
    "\n",
    "print(index_df)"
   ]
  },
  {
   "cell_type": "markdown",
   "metadata": {},
   "source": [
    "Bar Plot Using matplotlib.pyplot"
   ]
  },
  {
   "cell_type": "code",
   "execution_count": 8,
   "metadata": {},
   "outputs": [
    {
     "data": {
      "image/png": "[encoded data removed]",
      "text/plain": [
       "<matplotlib.figure.Figure at 0x1102a3978>"
      ]
     },
     "metadata": {},
     "output_type": "display_data"
    }
   ],
   "source": [
    "import matplotlib.pyplot as plt\n",
    "colors =[]\n",
    "for item in index_df['value']:\n",
    "    if item >= 11:\n",
    "        colors.append('purple')\n",
    "    elif np.logical_and(item>=8,item<=10):\n",
    "        colors.append('red')\n",
    "    elif np.logical_and(item>=6,item<=7):\n",
    "        colors.append('orange')\n",
    "    else: \n",
    "        colors.append('green')\n",
    "last_update = index_df['timestamp'].max()\n",
    "ax=index_df['value'].plot.bar(color=colors)\n",
    "ax.set_xticklabels(index_df['time'], rotation=90)\n",
    "ax.set_title('Singapore UV Index for the Past 12 Hours\\nLast Update:%s'%(last_update))\n",
    "plt.show()"
   ]
  },
  {
   "cell_type": "markdown",
   "metadata": {},
   "source": [
    "Bar Plot Using Plotly"
   ]
  },
  {
   "cell_type": "code",
   "execution_count": 9,
   "metadata": {},
   "outputs": [
    {
     "data": {
      "text/html": [
       "<script>requirejs.config({paths: { 'plotly': ['https://cdn.plot.ly/plotly-latest.min']},});if(!window.Plotly) {{require(['plotly'],function(plotly) {window.Plotly=plotly;});}}</script>"
      ],
      "text/vnd.plotly.v1+html": [
       "<script>requirejs.config({paths: { 'plotly': ['https://cdn.plot.ly/plotly-latest.min']},});if(!window.Plotly) {{require(['plotly'],function(plotly) {window.Plotly=plotly;});}}</script>"
      ]
     },
     "metadata": {},
     "output_type": "display_data"
    },
    {
     "data": {
      "application/vnd.plotly.v1+json": {
       "data": [
        {
         "marker": {
          "color": [
           "green",
           "green",
           "green",
           "green",
           "green",
           "red"
          ]
         },
         "type": "bar",
         "x": [
          "07:00:00",
          "08:00:00",
          "09:00:00",
          "10:00:00",
          "11:00:00",
          "12:00:00"
         ],
         "y": [
          0,
          0,
          0,
          0,
          3,
          8
         ]
        }
       ],
       "layout": {
        "title": "Singapore UV Index for the Past 12 Hours (Last Update:2018-02-24 12:00:00+08:00)",
        "xaxis": {
         "tickangle": -90
        }
       }
      },
      "text/html": [
       "<div id=\"0f34fb3e-cb9a-4b12-a70c-a403ea7d346c\" style=\"height: 525px; width: 100%;\" class=\"plotly-graph-div\"></div><script type=\"text/javascript\">require([\"plotly\"], function(Plotly) { window.PLOTLYENV=window.PLOTLYENV || {};window.PLOTLYENV.BASE_URL=\"https://plot.ly\";Plotly.newPlot(\"0f34fb3e-cb9a-4b12-a70c-a403ea7d346c\", [{\"type\": \"bar\", \"x\": [\"07:00:00\", \"08:00:00\", \"09:00:00\", \"10:00:00\", \"11:00:00\", \"12:00:00\"], \"y\": [0, 0, 0, 0, 3, 8], \"marker\": {\"color\": [\"green\", \"green\", \"green\", \"green\", \"green\", \"red\"]}}], {\"title\": \"Singapore UV Index for the Past 12 Hours (Last Update:2018-02-24 12:00:00+08:00)\", \"xaxis\": {\"tickangle\": -90}}, {\"showLink\": true, \"linkText\": \"Export to plot.ly\"})});</script>"
      ],
      "text/vnd.plotly.v1+html": [
       "<div id=\"0f34fb3e-cb9a-4b12-a70c-a403ea7d346c\" style=\"height: 525px; width: 100%;\" class=\"plotly-graph-div\"></div><script type=\"text/javascript\">require([\"plotly\"], function(Plotly) { window.PLOTLYENV=window.PLOTLYENV || {};window.PLOTLYENV.BASE_URL=\"https://plot.ly\";Plotly.newPlot(\"0f34fb3e-cb9a-4b12-a70c-a403ea7d346c\", [{\"type\": \"bar\", \"x\": [\"07:00:00\", \"08:00:00\", \"09:00:00\", \"10:00:00\", \"11:00:00\", \"12:00:00\"], \"y\": [0, 0, 0, 0, 3, 8], \"marker\": {\"color\": [\"green\", \"green\", \"green\", \"green\", \"green\", \"red\"]}}], {\"title\": \"Singapore UV Index for the Past 12 Hours (Last Update:2018-02-24 12:00:00+08:00)\", \"xaxis\": {\"tickangle\": -90}}, {\"showLink\": true, \"linkText\": \"Export to plot.ly\"})});</script>"
      ]
     },
     "metadata": {},
     "output_type": "display_data"
    }
   ],
   "source": [
    "import plotly.plotly as py\n",
    "from plotly.offline import download_plotlyjs, init_notebook_mode, plot, iplot\n",
    "import plotly.graph_objs as go\n",
    "\n",
    "colors =[]\n",
    "for item in index_df['value']:\n",
    "    if item >= 11:\n",
    "        colors.append('purple')\n",
    "    elif np.logical_and(item>=8,item<=10):\n",
    "        colors.append('red')\n",
    "    elif np.logical_and(item>=6,item<=7):\n",
    "        colors.append('orange')\n",
    "    else: \n",
    "        colors.append('green')\n",
    "last_update = index_df['timestamp'].max()\n",
    "\n",
    "init_notebook_mode(connected=True)\n",
    "data = [go.Bar(x=index_df.time, \n",
    "            y=index_df.value,\n",
    "            marker=dict(\n",
    "                color=colors,\n",
    "            )\n",
    "          )]\n",
    "\n",
    "last_update = index_df['timestamp'].max()\n",
    "layout = go.Layout(\n",
    "    title='Singapore UV Index for the Past 12 Hours (Last Update:%s)'%(last_update),\n",
    "    xaxis=dict(\n",
    "        tickangle=-90,)\n",
    ")\n",
    "fig = go.Figure(data=data, layout=layout)    \n",
    "iplot(fig, filename = 'jupyter/uv_index_bar')"
   ]
  },
  {
   "cell_type": "code",
   "execution_count": null,
   "metadata": {},
   "outputs": [],
   "source": []
  },
  {
   "cell_type": "code",
   "execution_count": null,
   "metadata": {},
   "outputs": [],
   "source": []
  },
  {
   "cell_type": "code",
   "execution_count": null,
   "metadata": {},
   "outputs": [],
   "source": []
  }
 ],
 "metadata": {
  "kernelspec": {
   "display_name": "Python 3",
   "language": "python",
   "name": "python3"
  },
  "language_info": {
   "codemirror_mode": {
    "name": "ipython",
    "version": 3
   },
   "file_extension": ".py",
   "mimetype": "text/x-python",
   "name": "python",
   "nbconvert_exporter": "python",
   "pygments_lexer": "ipython3",
   "version": "3.6.4"
  }
 },
 "nbformat": 4,
 "nbformat_minor": 2
}
